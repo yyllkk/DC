{
 "cells": [
  {
   "cell_type": "code",
   "execution_count": 172,
   "metadata": {},
   "outputs": [],
   "source": [
    "import pandas as pd\n",
    "import numpy as np\n",
    "import seaborn as sns\n",
    "import matplotlib.pyplot as plt\n",
    "from matplotlib.font_manager import FontProperties"
   ]
  },
  {
   "cell_type": "code",
   "execution_count": 173,
   "metadata": {},
   "outputs": [],
   "source": [
    "data_train = pd.read_csv(\"train.csv\")\n",
    "data_test = pd.read_csv(\"test.csv\")\n",
    "def singularValue(data,boundary):\n",
    "    data = np.array(data)\n",
    "    mean = int(data.mean())\n",
    "    for i in range(len(data)):\n",
    "        if data[i] > boundary:\n",
    "            data[i] = mean\n",
    "    return data"
   ]
  },
  {
   "cell_type": "code",
   "execution_count": 174,
   "metadata": {},
   "outputs": [],
   "source": [
    "data_train['卧室数量'] = singularValue(np.array(data_train['卧室数量']),5)\n",
    "data_train['厅的数量'] = singularValue(np.array(data_train['厅的数量']),4)\n",
    "data_train['卫的数量'] = singularValue(np.array(data_train['卫的数量']),3)\n",
    "\n",
    "data_test['卧室数量'] = singularValue(np.array(data_test['卧室数量']),5)\n",
    "data_test['厅的数量'] = singularValue(np.array(data_test['厅的数量']),4)\n",
    "data_test['卫的数量'] = singularValue(np.array(data_test['卫的数量']),3)\n",
    "data_test.drop(\"id\", axis = 1, inplace = True)\n",
    "\n",
    "\n",
    "for col in ['距离','地铁站点','地铁线路','居住状态']:\n",
    "    data_train[col] = data_train[col].fillna(0)\n",
    "    data_test[col] =data_test[col].fillna(0)\n",
    "    \n",
    "for col in ['小区房屋出租数量','位置','区','装修情况','出租方式']:\n",
    "    data_train[col] = data_train[col].fillna(data_train[col].median())\n",
    "    data_test[col] = data_test[col].fillna(data_test[col].median())"
   ]
  },
  {
   "cell_type": "code",
   "execution_count": 175,
   "metadata": {},
   "outputs": [],
   "source": [
    "houseOrientation = pd.get_dummies(data_train[['房屋朝向']])\n",
    "data_train = pd.merge(data_train, houseOrientation,left_index=True,right_index=True)\n",
    "data_train= data_train.drop('房屋朝向',1)\n",
    "\n",
    "houseOrientation = pd.get_dummies(data_test[['房屋朝向']])\n",
    "data_test = pd.merge(data_test, houseOrientation,left_index=True,right_index=True)\n",
    "data_test= data_test.drop('房屋朝向',1)"
   ]
  },
  {
   "cell_type": "code",
   "execution_count": 176,
   "metadata": {},
   "outputs": [],
   "source": [
    "from sklearn.model_selection import train_test_split\n",
    "from sklearn.decomposition import PCA\n",
    "from sklearn.manifold import TSNE"
   ]
  },
  {
   "cell_type": "code",
   "execution_count": 177,
   "metadata": {},
   "outputs": [],
   "source": [
    "array = data_train.values\n",
    "X = array[:, :-1]\n",
    "Y = array[:,-1]\n",
    "#pca = PCA(n_components =18)\n",
    "#pca.fit(X)\n",
    "#X = pca.transform(X)\n",
    "#data_test = pca.transform(data_test)\n",
    "#data_test_y = np.zero((len()))\n",
    "#tsne = TSNE(n_components=2)\n",
    "#tsne.fit(X)\n",
    "#X = tsne.fit_transform(X)\n",
    "seed = 7\n",
    "validation_size = 0.3\n",
    "X,X_test,Y,Y_test = train_test_split(X,Y,test_size=validation_size,random_state=seed)"
   ]
  },
  {
   "cell_type": "code",
   "execution_count": 178,
   "metadata": {},
   "outputs": [],
   "source": [
    "from sklearn.feature_selection import RFE\n",
    "from sklearn.ensemble import RandomForestClassifier\n",
    "rf = RandomForestClassifier()\n",
    "rfe = RFE(estimator=rf,n_features_to_select=7)\n",
    "X = rfe.fit_transform(X,Y)\n"
   ]
  },
  {
   "cell_type": "code",
   "execution_count": 179,
   "metadata": {},
   "outputs": [],
   "source": [
    "from sklearn.linear_model import LinearRegression\n",
    "from sklearn.linear_model import Lasso\n",
    "from sklearn.linear_model import ElasticNet\n",
    "from sklearn.tree import DecisionTreeRegressor\n",
    "from sklearn.neighbors import KNeighborsRegressor\n",
    "from sklearn.svm import SVR\n",
    "from sklearn.model_selection import KFold\n",
    "from sklearn.model_selection import cross_val_score\n",
    "import lightgbm as lgb"
   ]
  },
  {
   "cell_type": "code",
   "execution_count": 180,
   "metadata": {},
   "outputs": [],
   "source": [
    "num_folds = 10\n",
    "scoring = 'neg_mean_squared_error'\n",
    "\n",
    "model = {}\n",
    "model['LR'] = LinearRegression()\n",
    "model['LASSO'] = Lasso()\n",
    "model['EN'] = ElasticNet()\n",
    "model['KNN'] = KNeighborsRegressor()\n",
    "model['CART'] = DecisionTreeRegressor()\n",
    "model['LGB'] = lgb.LGBMRegressor()"
   ]
  },
  {
   "cell_type": "code",
   "execution_count": 181,
   "metadata": {},
   "outputs": [
    {
     "name": "stdout",
     "output_type": "stream",
     "text": [
      "LR:-0.000312 (0.000134)\n",
      "LASSO:-0.000312 (0.000134)\n",
      "EN:-0.000312 (0.000134)\n",
      "KNN:-0.000274 (0.000110)\n",
      "CART:-0.000351 (0.000175)\n",
      "LGB:-0.000249 (0.000103)\n"
     ]
    }
   ],
   "source": [
    "#评估算法\n",
    "results = []\n",
    "for key in model:\n",
    "    kfold = KFold(n_splits=num_folds,random_state=seed)\n",
    "    cv_result = cross_val_score(model[key],X,Y,cv=kfold,scoring=scoring)\n",
    "    results.append(cv_result)\n",
    "    print('%s:%f (%f)'% (key,cv_result.mean(),cv_result.std()))"
   ]
  },
  {
   "cell_type": "code",
   "execution_count": 183,
   "metadata": {},
   "outputs": [
    {
     "ename": "ValueError",
     "evalue": "Number of features of the model must match the input. Model n_features_ is 7 and input n_features is 81 ",
     "output_type": "error",
     "traceback": [
      "\u001b[1;31m---------------------------------------------------------------------------\u001b[0m",
      "\u001b[1;31mValueError\u001b[0m                                Traceback (most recent call last)",
      "\u001b[1;32m<ipython-input-183-1fee893e40a4>\u001b[0m in \u001b[0;36m<module>\u001b[1;34m()\u001b[0m\n\u001b[0;32m      8\u001b[0m                               min_child_samples=40)\n\u001b[0;32m      9\u001b[0m \u001b[0mmodel_lgb\u001b[0m\u001b[1;33m.\u001b[0m\u001b[0mfit\u001b[0m\u001b[1;33m(\u001b[0m\u001b[0mX\u001b[0m\u001b[1;33m,\u001b[0m\u001b[0mY\u001b[0m\u001b[1;33m)\u001b[0m\u001b[1;33m\u001b[0m\u001b[0m\n\u001b[1;32m---> 10\u001b[1;33m \u001b[0mpredictions\u001b[0m \u001b[1;33m=\u001b[0m \u001b[0mmodel_lgb\u001b[0m\u001b[1;33m.\u001b[0m\u001b[0mpredict\u001b[0m\u001b[1;33m(\u001b[0m\u001b[0mX_test\u001b[0m\u001b[1;33m)\u001b[0m\u001b[1;33m\u001b[0m\u001b[0m\n\u001b[0m\u001b[0;32m     11\u001b[0m \u001b[0mprint\u001b[0m\u001b[1;33m(\u001b[0m\u001b[0mmean_squared_error\u001b[0m\u001b[1;33m(\u001b[0m\u001b[0mY_test\u001b[0m\u001b[1;33m,\u001b[0m\u001b[0mpredictions\u001b[0m\u001b[1;33m)\u001b[0m\u001b[1;33m)\u001b[0m\u001b[1;33m\u001b[0m\u001b[0m\n",
      "\u001b[1;32md:\\python\\lib\\site-packages\\lightgbm\\sklearn.py\u001b[0m in \u001b[0;36mpredict\u001b[1;34m(self, X, raw_score, num_iteration, pred_leaf, pred_contrib, **kwargs)\u001b[0m\n\u001b[0;32m    560\u001b[0m                              \u001b[1;34m\"match the input. Model n_features_ is %s and \"\u001b[0m\u001b[1;33m\u001b[0m\u001b[0m\n\u001b[0;32m    561\u001b[0m                              \u001b[1;34m\"input n_features is %s \"\u001b[0m\u001b[1;33m\u001b[0m\u001b[0m\n\u001b[1;32m--> 562\u001b[1;33m                              % (self._n_features, n_features))\n\u001b[0m\u001b[0;32m    563\u001b[0m         return self.booster_.predict(X, raw_score=raw_score, num_iteration=num_iteration,\n\u001b[0;32m    564\u001b[0m                                      pred_leaf=pred_leaf, pred_contrib=pred_contrib, **kwargs)\n",
      "\u001b[1;31mValueError\u001b[0m: Number of features of the model must match the input. Model n_features_ is 7 and input n_features is 81 "
     ]
    }
   ],
   "source": [
    "from sklearn.preprocessing import StandardScaler\n",
    "from sklearn.metrics import mean_squared_error\n",
    "# 调参改善算法\n",
    "scaler = StandardScaler().fit(X)\n",
    "rescaledX = scaler.transform(X)\n",
    "X_test = scaler.transform(X_test)\n",
    "model_lgb = lgb.LGBMRegressor(learning_rate= 0.1 ,max_depth=-1 ,reg_alpha=0.01,\n",
    "                              min_child_samples=40)\n",
    "model_lgb.fit(X,Y)\n",
    "predictions = model_lgb.predict(X_test)\n",
    "print(mean_squared_error(Y_test,predictions))"
   ]
  },
  {
   "cell_type": "code",
   "execution_count": 119,
   "metadata": {},
   "outputs": [
    {
     "data": {
      "text/plain": [
       "array([441, 573, 448, 230, 729, 576])"
      ]
     },
     "execution_count": 119,
     "metadata": {},
     "output_type": "execute_result"
    }
   ],
   "source": [
    "model_lgb.feature_importances_"
   ]
  },
  {
   "cell_type": "code",
   "execution_count": null,
   "metadata": {},
   "outputs": [],
   "source": []
  }
 ],
 "metadata": {
  "kernelspec": {
   "display_name": "Python 3",
   "language": "python",
   "name": "python3"
  },
  "language_info": {
   "codemirror_mode": {
    "name": "ipython",
    "version": 3
   },
   "file_extension": ".py",
   "mimetype": "text/x-python",
   "name": "python",
   "nbconvert_exporter": "python",
   "pygments_lexer": "ipython3",
   "version": "3.6.5"
  }
 },
 "nbformat": 4,
 "nbformat_minor": 2
}
