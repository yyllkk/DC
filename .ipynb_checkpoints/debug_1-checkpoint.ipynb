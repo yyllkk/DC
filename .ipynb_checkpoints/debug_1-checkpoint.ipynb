{
 "cells": [
  {
   "cell_type": "code",
   "execution_count": 147,
   "metadata": {},
   "outputs": [],
   "source": [
    "import pandas as pd\n",
    "import numpy as np\n",
    "import seaborn as sns\n",
    "import matplotlib.pyplot as plt\n",
    "from matplotlib.font_manager import FontProperties"
   ]
  },
  {
   "cell_type": "code",
   "execution_count": 148,
   "metadata": {},
   "outputs": [],
   "source": [
    "data_train = pd.read_csv(\"train.csv\")\n",
    "data_test = pd.read_csv(\"test.csv\")\n",
    "def singularValue(data,boundary):\n",
    "    data = np.array(data)\n",
    "    mean = int(data.mean())\n",
    "    for i in range(len(data)):\n",
    "        if data[i] > boundary:\n",
    "            data[i] = mean\n",
    "    return data"
   ]
  },
  {
   "cell_type": "code",
   "execution_count": 149,
   "metadata": {},
   "outputs": [],
   "source": [
    "data_train['卧室数量'] = singularValue(np.array(data_train['卧室数量']),5)\n",
    "data_train['厅的数量'] = singularValue(np.array(data_train['厅的数量']),4)\n",
    "data_train['卫的数量'] = singularValue(np.array(data_train['卫的数量']),3)\n",
    "\n",
    "test_train['卧室数量'] = singularValue(np.array(test_train['卧室数量']),5)\n",
    "test_train['厅的数量'] = singularValue(np.array(test_train['厅的数量']),4)\n",
    "test_train['卫的数量'] = singularValue(np.array(test_train['卫的数量']),3)\n",
    "\n",
    "\n",
    "for col in ['距离','地铁站点','地铁线路','居住状态']:\n",
    "    data_train[col] = data_train[col].fillna(0)\n",
    "    test_train[col] =test_train[col].fillna(0)\n",
    "    \n",
    "for col in ['小区房屋出租数量','位置','区','装修情况','出租方式']:\n",
    "    data_train[col] = data_train[col].fillna(data_train[col].median())\n",
    "    test_train[col] = test_train[col].fillna(test_train[col].median())"
   ]
  },
  {
   "cell_type": "code",
   "execution_count": 150,
   "metadata": {},
   "outputs": [],
   "source": [
    "houseOrientation = pd.get_dummies(data_train[['房屋朝向']])\n",
    "data_train = pd.merge(data_train, houseOrientation,left_index=True,right_index=True)\n",
    "data_train= data_train.drop('房屋朝向',1)"
   ]
  },
  {
   "cell_type": "code",
   "execution_count": 151,
   "metadata": {},
   "outputs": [],
   "source": [
    "from sklearn.model_selection import train_test_split\n",
    "from sklearn.decomposition import PCA\n",
    "from sklearn.manifold import TSNE"
   ]
  },
  {
   "cell_type": "code",
   "execution_count": 152,
   "metadata": {},
   "outputs": [],
   "source": [
    "array = data_train.values\n",
    "X = array[:, :-1]\n",
    "Y = array[:,-1]\n",
    "pca = PCA(n_components =18)\n",
    "pca.fit(X)\n",
    "X = pca.transform(X)\n",
    "#tsne = TSNE(n_components=2)\n",
    "#tsne.fit(X)\n",
    "#X = tsne.fit_transform(X)\n",
    "seed = 7\n",
    "validation_size = 0.3\n",
    "X,X_test,Y,Y_test = train_test_split(X,Y,test_size=validation_size,random_state=seed)"
   ]
  },
  {
   "cell_type": "code",
   "execution_count": 153,
   "metadata": {},
   "outputs": [],
   "source": [
    "from sklearn.feature_selection import RFE\n",
    "from sklearn.ensemble import RandomForestClassifier\n",
    "rf = RandomForestClassifier()\n",
    "rfe = RFE(estimator=rf,n_features_to_select=7)\n",
    "X = rfe.fit_transform(X,Y)\n",
    "X_test = rfe.fit_transform(X_test,Y_test)"
   ]
  },
  {
   "cell_type": "code",
   "execution_count": 154,
   "metadata": {},
   "outputs": [],
   "source": [
    "from sklearn.linear_model import LinearRegression\n",
    "from sklearn.linear_model import Lasso\n",
    "from sklearn.linear_model import ElasticNet\n",
    "from sklearn.tree import DecisionTreeRegressor\n",
    "from sklearn.neighbors import KNeighborsRegressor\n",
    "from sklearn.svm import SVR\n",
    "from sklearn.model_selection import KFold\n",
    "from sklearn.model_selection import cross_val_score\n",
    "import lightgbm as lgb"
   ]
  },
  {
   "cell_type": "code",
   "execution_count": 155,
   "metadata": {},
   "outputs": [],
   "source": [
    "num_folds = 10\n",
    "scoring = 'neg_mean_squared_error'\n",
    "\n",
    "model = {}\n",
    "model['LR'] = LinearRegression()\n",
    "model['LASSO'] = Lasso()\n",
    "model['EN'] = ElasticNet()\n",
    "model['KNN'] = KNeighborsRegressor()\n",
    "model['CART'] = DecisionTreeRegressor()\n",
    "model['LGB'] = lgb.LGBMRegressor()"
   ]
  },
  {
   "cell_type": "code",
   "execution_count": 156,
   "metadata": {},
   "outputs": [
    {
     "name": "stdout",
     "output_type": "stream",
     "text": [
      "LR:-0.000312 (0.000134)\n",
      "LASSO:-0.000312 (0.000134)\n",
      "EN:-0.000312 (0.000134)\n",
      "KNN:-0.000238 (0.000083)\n",
      "CART:-0.000262 (0.000109)\n",
      "LGB:-0.000174 (0.000067)\n"
     ]
    }
   ],
   "source": [
    "#评估算法\n",
    "results = []\n",
    "for key in model:\n",
    "    kfold = KFold(n_splits=num_folds,random_state=seed)\n",
    "    cv_result = cross_val_score(model[key],X,Y,cv=kfold,scoring=scoring)\n",
    "    results.append(cv_result)\n",
    "    print('%s:%f (%f)'% (key,cv_result.mean(),cv_result.std()))"
   ]
  },
  {
   "cell_type": "code",
   "execution_count": 157,
   "metadata": {},
   "outputs": [
    {
     "name": "stdout",
     "output_type": "stream",
     "text": [
      "0.0005268359186587501\n"
     ]
    }
   ],
   "source": [
    "from sklearn.preprocessing import StandardScaler\n",
    "from sklearn.metrics import mean_squared_error\n",
    "# 调参改善算法\n",
    "scaler = StandardScaler().fit(X)\n",
    "rescaledX = scaler.transform(X)\n",
    "X_test = scaler.transform(X_test)\n",
    "model_lgb = lgb.LGBMRegressor(learning_rate= 0.1 ,max_depth=-1 ,reg_alpha=0.01,\n",
    "                              min_child_samples=40)\n",
    "model_lgb.fit(X,Y)\n",
    "predictions = model_lgb.predict(X_test)\n",
    "print(mean_squared_error(Y_test,predictions))"
   ]
  },
  {
   "cell_type": "code",
   "execution_count": 119,
   "metadata": {},
   "outputs": [
    {
     "data": {
      "text/plain": [
       "array([441, 573, 448, 230, 729, 576])"
      ]
     },
     "execution_count": 119,
     "metadata": {},
     "output_type": "execute_result"
    }
   ],
   "source": [
    "model_lgb.feature_importances_"
   ]
  },
  {
   "cell_type": "code",
   "execution_count": null,
   "metadata": {},
   "outputs": [],
   "source": []
  }
 ],
 "metadata": {
  "kernelspec": {
   "display_name": "Python 3",
   "language": "python",
   "name": "python3"
  },
  "language_info": {
   "codemirror_mode": {
    "name": "ipython",
    "version": 3
   },
   "file_extension": ".py",
   "mimetype": "text/x-python",
   "name": "python",
   "nbconvert_exporter": "python",
   "pygments_lexer": "ipython3",
   "version": "3.6.5"
  }
 },
 "nbformat": 4,
 "nbformat_minor": 2
}
